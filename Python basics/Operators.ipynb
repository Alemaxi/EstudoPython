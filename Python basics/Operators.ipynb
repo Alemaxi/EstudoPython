{
 "cells": [
  {
   "cell_type": "markdown",
   "id": "ffead922-beb7-430e-81ec-e6b6e5504455",
   "metadata": {},
   "source": [
    "<h1>Numeric operators</h1>"
   ]
  },
  {
   "cell_type": "code",
   "execution_count": 1,
   "id": "6b822365-a602-4902-a5ad-4b2120e492c0",
   "metadata": {},
   "outputs": [
    {
     "data": {
      "text/plain": [
       "3"
      ]
     },
     "execution_count": 1,
     "metadata": {},
     "output_type": "execute_result"
    }
   ],
   "source": [
    "1 + 2"
   ]
  },
  {
   "cell_type": "code",
   "execution_count": 2,
   "id": "2ba3522b-77a4-462b-b506-7869f5fc5649",
   "metadata": {},
   "outputs": [
    {
     "data": {
      "text/plain": [
       "-2"
      ]
     },
     "execution_count": 2,
     "metadata": {},
     "output_type": "execute_result"
    }
   ],
   "source": [
    "3 - 5"
   ]
  },
  {
   "cell_type": "code",
   "execution_count": 3,
   "id": "9f4381c1-9bc3-4489-94ac-670a49cf21db",
   "metadata": {},
   "outputs": [
    {
     "data": {
      "text/plain": [
       "5.0"
      ]
     },
     "execution_count": 3,
     "metadata": {},
     "output_type": "execute_result"
    }
   ],
   "source": [
    "15 /3"
   ]
  },
  {
   "cell_type": "code",
   "execution_count": 4,
   "id": "8342524e-8784-478a-a512-c06ade6410d4",
   "metadata": {},
   "outputs": [
    {
     "data": {
      "text/plain": [
       "5.333333333333333"
      ]
     },
     "execution_count": 4,
     "metadata": {},
     "output_type": "execute_result"
    }
   ],
   "source": [
    "16 / 3"
   ]
  },
  {
   "cell_type": "code",
   "execution_count": 5,
   "id": "0e038b44-6b0b-476e-8d6e-653fd7fd823c",
   "metadata": {},
   "outputs": [
    {
     "data": {
      "text/plain": [
       "5.333333333333333"
      ]
     },
     "execution_count": 5,
     "metadata": {},
     "output_type": "execute_result"
    }
   ],
   "source": [
    "int(16) / 3"
   ]
  },
  {
   "cell_type": "code",
   "execution_count": 6,
   "id": "2828f86c-4922-4b58-9544-71447256e850",
   "metadata": {},
   "outputs": [
    {
     "data": {
      "text/plain": [
       "5.333333333333333"
      ]
     },
     "execution_count": 6,
     "metadata": {},
     "output_type": "execute_result"
    }
   ],
   "source": [
    "int(16) / int(3)"
   ]
  },
  {
   "cell_type": "code",
   "execution_count": 7,
   "id": "f15dcf88-8a59-4628-939e-f8494183eb5f",
   "metadata": {},
   "outputs": [
    {
     "data": {
      "text/plain": [
       "1"
      ]
     },
     "execution_count": 7,
     "metadata": {},
     "output_type": "execute_result"
    }
   ],
   "source": [
    "16 % 3"
   ]
  },
  {
   "cell_type": "code",
   "execution_count": 8,
   "id": "880199de-ba40-4a8d-b18d-47ac8552abea",
   "metadata": {},
   "outputs": [
    {
     "data": {
      "text/plain": [
       "15"
      ]
     },
     "execution_count": 8,
     "metadata": {},
     "output_type": "execute_result"
    }
   ],
   "source": [
    "5 * 3"
   ]
  },
  {
   "cell_type": "code",
   "execution_count": 9,
   "id": "771383ce-9afc-4b2c-908b-1cacf5d042de",
   "metadata": {},
   "outputs": [],
   "source": [
    "x = 5 *3"
   ]
  },
  {
   "cell_type": "code",
   "execution_count": 10,
   "id": "83995505-310d-4044-921f-6acd19c001fc",
   "metadata": {},
   "outputs": [
    {
     "data": {
      "text/plain": [
       "125"
      ]
     },
     "execution_count": 10,
     "metadata": {},
     "output_type": "execute_result"
    }
   ],
   "source": [
    "5 ** 3"
   ]
  },
  {
   "cell_type": "markdown",
   "id": "4ee4d852-c9b0-470c-8fac-58583c2478cc",
   "metadata": {},
   "source": [
    "<h1>Equality operators</h1>"
   ]
  },
  {
   "cell_type": "code",
   "execution_count": 11,
   "id": "04a8f6ae-e78d-4745-be0d-41a8d52b80cb",
   "metadata": {},
   "outputs": [],
   "source": [
    "val = 5 ** 3"
   ]
  },
  {
   "cell_type": "code",
   "execution_count": 12,
   "id": "9efe638c-63f0-4f45-ba37-f20499625a1c",
   "metadata": {},
   "outputs": [
    {
     "data": {
      "text/plain": [
       "125"
      ]
     },
     "execution_count": 12,
     "metadata": {},
     "output_type": "execute_result"
    }
   ],
   "source": [
    "val"
   ]
  },
  {
   "cell_type": "code",
   "execution_count": 13,
   "id": "a4a2a94e-119a-49e4-ba3b-a43614974e08",
   "metadata": {},
   "outputs": [
    {
     "data": {
      "text/plain": [
       "True"
      ]
     },
     "execution_count": 13,
     "metadata": {},
     "output_type": "execute_result"
    }
   ],
   "source": [
    "val == 125"
   ]
  },
  {
   "cell_type": "code",
   "execution_count": 14,
   "id": "5871d453-ecae-4082-9cd2-c8c2ea388209",
   "metadata": {},
   "outputs": [
    {
     "data": {
      "text/plain": [
       "False"
      ]
     },
     "execution_count": 14,
     "metadata": {},
     "output_type": "execute_result"
    }
   ],
   "source": [
    "val == 126"
   ]
  },
  {
   "cell_type": "markdown",
   "id": "2c0bf3a9-b523-47fd-811b-7eb838c9bbc7",
   "metadata": {},
   "source": [
    "<h1>Comments</h1>"
   ]
  },
  {
   "cell_type": "code",
   "execution_count": 16,
   "id": "24c8178f-ff65-4982-91f6-75b6128b2a55",
   "metadata": {},
   "outputs": [
    {
     "name": "stdout",
     "output_type": "stream",
     "text": [
      "7 2\n"
     ]
    }
   ],
   "source": [
    "# It's just a commnet\n",
    "print (7,2)"
   ]
  },
  {
   "cell_type": "markdown",
   "id": "2bafe06a-773c-48ec-89fe-fc20407bff9d",
   "metadata": {},
   "source": [
    "<h1>Line continuation</h1>"
   ]
  },
  {
   "cell_type": "code",
   "execution_count": 17,
   "id": "8b857a47-e6d2-431c-b440-e6d11ef4e255",
   "metadata": {},
   "outputs": [
    {
     "data": {
      "text/plain": [
       "7.0"
      ]
     },
     "execution_count": 17,
     "metadata": {},
     "output_type": "execute_result"
    }
   ],
   "source": [
    "2.0 * 1.5 + \\\n",
    "4"
   ]
  },
  {
   "cell_type": "markdown",
   "id": "7174ebb0-8c8e-4000-b823-3cc88ba1eeb4",
   "metadata": {},
   "source": [
    "<h1>Indexing</h1>"
   ]
  },
  {
   "cell_type": "code",
   "execution_count": 19,
   "id": "5aa4e867-c469-445f-b40c-d120c835ef20",
   "metadata": {},
   "outputs": [
    {
     "data": {
      "text/plain": [
       "'y'"
      ]
     },
     "execution_count": 19,
     "metadata": {},
     "output_type": "execute_result"
    }
   ],
   "source": [
    "\"Friday\"[-1]"
   ]
  },
  {
   "cell_type": "markdown",
   "id": "a2ab89d6-e521-41b1-b9fa-21dbd26f0e0c",
   "metadata": {},
   "source": [
    "<h1>Compirason Operators</h1>"
   ]
  },
  {
   "cell_type": "code",
   "execution_count": 20,
   "id": "394dfc5b-1b63-4086-b1aa-22933b4b1711",
   "metadata": {},
   "outputs": [
    {
     "data": {
      "text/plain": [
       "True"
      ]
     },
     "execution_count": 20,
     "metadata": {},
     "output_type": "execute_result"
    }
   ],
   "source": [
    "10 != 15"
   ]
  },
  {
   "cell_type": "code",
   "execution_count": 21,
   "id": "b7d23046-52fe-42a9-b5f6-113398de496b",
   "metadata": {},
   "outputs": [
    {
     "data": {
      "text/plain": [
       "True"
      ]
     },
     "execution_count": 21,
     "metadata": {},
     "output_type": "execute_result"
    }
   ],
   "source": [
    "100 > 50"
   ]
  },
  {
   "cell_type": "code",
   "execution_count": 22,
   "id": "e88829f4-281f-4841-9158-8eace771f7f8",
   "metadata": {},
   "outputs": [
    {
     "data": {
      "text/plain": [
       "False"
      ]
     },
     "execution_count": 22,
     "metadata": {},
     "output_type": "execute_result"
    }
   ],
   "source": [
    "100 < 50"
   ]
  },
  {
   "cell_type": "code",
   "execution_count": 23,
   "id": "3656450f-d6ed-4968-a09c-1b9952d4b4a9",
   "metadata": {},
   "outputs": [
    {
     "data": {
      "text/plain": [
       "False"
      ]
     },
     "execution_count": 23,
     "metadata": {},
     "output_type": "execute_result"
    }
   ],
   "source": [
    "15 >= 10 + 10"
   ]
  },
  {
   "cell_type": "code",
   "execution_count": 24,
   "id": "a0684e12-f63c-4af7-9047-e3aa2dea2c79",
   "metadata": {},
   "outputs": [
    {
     "data": {
      "text/plain": [
       "True"
      ]
     },
     "execution_count": 24,
     "metadata": {},
     "output_type": "execute_result"
    }
   ],
   "source": [
    "15 <= 10 + 5"
   ]
  },
  {
   "cell_type": "markdown",
   "id": "77e8c9b3-6b77-4019-b8a8-9d225959b8de",
   "metadata": {},
   "source": [
    "<h1>Logical and identity operators</h1>"
   ]
  },
  {
   "cell_type": "code",
   "execution_count": 25,
   "id": "fb6dc9ff-1665-453c-aad5-7f7d0fd7d4a1",
   "metadata": {},
   "outputs": [
    {
     "data": {
      "text/plain": [
       "True"
      ]
     },
     "execution_count": 25,
     "metadata": {},
     "output_type": "execute_result"
    }
   ],
   "source": [
    "True and True"
   ]
  },
  {
   "cell_type": "code",
   "execution_count": 26,
   "id": "1126e939-d908-4501-866e-6bc034e2ab64",
   "metadata": {},
   "outputs": [
    {
     "data": {
      "text/plain": [
       "False"
      ]
     },
     "execution_count": 26,
     "metadata": {},
     "output_type": "execute_result"
    }
   ],
   "source": [
    "True and False"
   ]
  },
  {
   "cell_type": "code",
   "execution_count": 27,
   "id": "57a0f342-6e59-473c-993b-c93cff1b8522",
   "metadata": {},
   "outputs": [
    {
     "data": {
      "text/plain": [
       "False"
      ]
     },
     "execution_count": 27,
     "metadata": {},
     "output_type": "execute_result"
    }
   ],
   "source": [
    "False and False"
   ]
  },
  {
   "cell_type": "code",
   "execution_count": 28,
   "id": "0a703220-281c-4a76-9354-b3c5b6413dda",
   "metadata": {},
   "outputs": [
    {
     "data": {
      "text/plain": [
       "False"
      ]
     },
     "execution_count": 28,
     "metadata": {},
     "output_type": "execute_result"
    }
   ],
   "source": [
    "False or False"
   ]
  },
  {
   "cell_type": "code",
   "execution_count": 29,
   "id": "09fd2de9-a122-4b76-99d1-21e72e9c595f",
   "metadata": {},
   "outputs": [
    {
     "data": {
      "text/plain": [
       "True"
      ]
     },
     "execution_count": 29,
     "metadata": {},
     "output_type": "execute_result"
    }
   ],
   "source": [
    "True or True"
   ]
  },
  {
   "cell_type": "code",
   "execution_count": 30,
   "id": "88e11bff-7612-4428-a219-97f91ae4c199",
   "metadata": {},
   "outputs": [
    {
     "data": {
      "text/plain": [
       "True"
      ]
     },
     "execution_count": 30,
     "metadata": {},
     "output_type": "execute_result"
    }
   ],
   "source": [
    "True or False"
   ]
  },
  {
   "cell_type": "code",
   "execution_count": 31,
   "id": "4d6816e5-a424-48d6-9824-97f1fbba0bb9",
   "metadata": {},
   "outputs": [
    {
     "data": {
      "text/plain": [
       "False"
      ]
     },
     "execution_count": 31,
     "metadata": {},
     "output_type": "execute_result"
    }
   ],
   "source": [
    "not True"
   ]
  },
  {
   "cell_type": "code",
   "execution_count": 32,
   "id": "9aae4ef8-e238-411f-aaca-29606afcc6dd",
   "metadata": {},
   "outputs": [
    {
     "data": {
      "text/plain": [
       "True"
      ]
     },
     "execution_count": 32,
     "metadata": {},
     "output_type": "execute_result"
    }
   ],
   "source": [
    "not False"
   ]
  },
  {
   "cell_type": "code",
   "execution_count": 33,
   "id": "ab91c7cc-5f8d-469f-9053-2fe61bddf14d",
   "metadata": {},
   "outputs": [
    {
     "data": {
      "text/plain": [
       "False"
      ]
     },
     "execution_count": 33,
     "metadata": {},
     "output_type": "execute_result"
    }
   ],
   "source": [
    "3 > 5 and 10 <= 20"
   ]
  },
  {
   "cell_type": "code",
   "execution_count": null,
   "id": "de6b2b77-ad75-4f35-bc26-0afe2e051784",
   "metadata": {},
   "outputs": [],
   "source": []
  }
 ],
 "metadata": {
  "kernelspec": {
   "display_name": "Python 3 (ipykernel)",
   "language": "python",
   "name": "python3"
  },
  "language_info": {
   "codemirror_mode": {
    "name": "ipython",
    "version": 3
   },
   "file_extension": ".py",
   "mimetype": "text/x-python",
   "name": "python",
   "nbconvert_exporter": "python",
   "pygments_lexer": "ipython3",
   "version": "3.12.9"
  }
 },
 "nbformat": 4,
 "nbformat_minor": 5
}
