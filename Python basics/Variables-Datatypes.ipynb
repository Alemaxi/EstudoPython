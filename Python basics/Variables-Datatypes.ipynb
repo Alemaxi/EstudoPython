{
 "cells": [
  {
   "cell_type": "markdown",
   "id": "a04c5196-892e-4ba1-a0be-4a5ce48b3d5f",
   "metadata": {},
   "source": [
    "<h1>Declaring variables and printing it</h1>"
   ]
  },
  {
   "cell_type": "code",
   "execution_count": 1,
   "id": "cf2443fc-5c6a-4426-8345-7de3f0fa9e77",
   "metadata": {},
   "outputs": [],
   "source": [
    "x = 5"
   ]
  },
  {
   "cell_type": "code",
   "execution_count": 2,
   "id": "493e71a1-68b7-47fc-995e-42369534ac82",
   "metadata": {},
   "outputs": [
    {
     "name": "stdout",
     "output_type": "stream",
     "text": [
      "5\n"
     ]
    }
   ],
   "source": [
    "print(x)"
   ]
  },
  {
   "cell_type": "code",
   "execution_count": 3,
   "id": "19807e97-12c0-4805-af8d-5b8054404ecd",
   "metadata": {},
   "outputs": [
    {
     "data": {
      "text/plain": [
       "5"
      ]
     },
     "execution_count": 3,
     "metadata": {},
     "output_type": "execute_result"
    }
   ],
   "source": [
    "x"
   ]
  },
  {
   "cell_type": "code",
   "execution_count": 4,
   "id": "c4d9af65-981b-42e7-a90c-1f08eaf7d852",
   "metadata": {},
   "outputs": [],
   "source": [
    "y = 8"
   ]
  },
  {
   "cell_type": "code",
   "execution_count": 5,
   "id": "87b558c6-fedc-48a7-ac39-70b1f102e8d1",
   "metadata": {},
   "outputs": [],
   "source": [
    "x,y  = (1,2)"
   ]
  },
  {
   "cell_type": "code",
   "execution_count": 7,
   "id": "9f4349fe-1d4d-45a9-9176-dcc6a5e987f9",
   "metadata": {},
   "outputs": [
    {
     "name": "stdout",
     "output_type": "stream",
     "text": [
      "1\n",
      "2\n"
     ]
    }
   ],
   "source": [
    "print(x)\n",
    "print(y)"
   ]
  },
  {
   "cell_type": "markdown",
   "id": "21bb2b54-8979-47fb-a575-f1c699dad588",
   "metadata": {},
   "source": [
    "<h1>DataTypes</h1>"
   ]
  },
  {
   "cell_type": "code",
   "execution_count": 8,
   "id": "a0ff6f84-c1e4-486a-98e7-1edeb0d66e62",
   "metadata": {},
   "outputs": [],
   "source": [
    "x = 5"
   ]
  },
  {
   "cell_type": "code",
   "execution_count": 9,
   "id": "6e6c4c2f-5786-4c2a-8b67-d6c821956a4c",
   "metadata": {},
   "outputs": [
    {
     "data": {
      "text/plain": [
       "int"
      ]
     },
     "execution_count": 9,
     "metadata": {},
     "output_type": "execute_result"
    }
   ],
   "source": [
    "type(x)"
   ]
  },
  {
   "cell_type": "code",
   "execution_count": 10,
   "id": "6956624a-d8ad-488f-a453-a55749e05760",
   "metadata": {},
   "outputs": [],
   "source": [
    "x = -6"
   ]
  },
  {
   "cell_type": "code",
   "execution_count": 11,
   "id": "82029772-c2c5-4a14-be19-166ef8e61129",
   "metadata": {},
   "outputs": [
    {
     "data": {
      "text/plain": [
       "int"
      ]
     },
     "execution_count": 11,
     "metadata": {},
     "output_type": "execute_result"
    }
   ],
   "source": [
    "type(x)"
   ]
  },
  {
   "cell_type": "code",
   "execution_count": 16,
   "id": "d3701be3-e238-4f41-99d1-c76bcd3e8f94",
   "metadata": {},
   "outputs": [
    {
     "name": "stdout",
     "output_type": "stream",
     "text": [
      "<class 'float'>\n"
     ]
    }
   ],
   "source": [
    "y = 4.75\n",
    "varType = type(y)\n",
    "print(varType)"
   ]
  },
  {
   "cell_type": "code",
   "execution_count": 17,
   "id": "93b5be68-4d8b-4c42-b36c-05bafdf48685",
   "metadata": {},
   "outputs": [
    {
     "data": {
      "text/plain": [
       "4"
      ]
     },
     "execution_count": 17,
     "metadata": {},
     "output_type": "execute_result"
    }
   ],
   "source": [
    "int(y)"
   ]
  },
  {
   "cell_type": "code",
   "execution_count": 18,
   "id": "f4a046a8-0692-4c8b-acb0-929d9f72d489",
   "metadata": {},
   "outputs": [
    {
     "data": {
      "text/plain": [
       "5.0"
      ]
     },
     "execution_count": 18,
     "metadata": {},
     "output_type": "execute_result"
    }
   ],
   "source": [
    "float(5)"
   ]
  },
  {
   "cell_type": "code",
   "execution_count": 19,
   "id": "6d76c7ce-67d2-422f-8ede-c87551c0827e",
   "metadata": {},
   "outputs": [],
   "source": [
    "x3 = True"
   ]
  },
  {
   "cell_type": "code",
   "execution_count": 20,
   "id": "53df3d36-5cd1-4211-8c14-2c13ab9c8f38",
   "metadata": {},
   "outputs": [
    {
     "data": {
      "text/plain": [
       "bool"
      ]
     },
     "execution_count": 20,
     "metadata": {},
     "output_type": "execute_result"
    }
   ],
   "source": [
    "type(x3)"
   ]
  },
  {
   "cell_type": "markdown",
   "id": "da3aaad4-daab-46f5-b217-9bf8807eb3d4",
   "metadata": {},
   "source": [
    "<h1>String types</h1>"
   ]
  },
  {
   "cell_type": "code",
   "execution_count": 21,
   "id": "8680ae3a-6c9f-4588-bebf-96bd3ebcbbc4",
   "metadata": {},
   "outputs": [
    {
     "data": {
      "text/plain": [
       "'George'"
      ]
     },
     "execution_count": 21,
     "metadata": {},
     "output_type": "execute_result"
    }
   ],
   "source": [
    "'George'"
   ]
  },
  {
   "cell_type": "code",
   "execution_count": 22,
   "id": "370ffba8-18fb-4f4b-ac39-d322d4d474ac",
   "metadata": {},
   "outputs": [
    {
     "data": {
      "text/plain": [
       "'George'"
      ]
     },
     "execution_count": 22,
     "metadata": {},
     "output_type": "execute_result"
    }
   ],
   "source": [
    "\"George\""
   ]
  },
  {
   "cell_type": "code",
   "execution_count": 23,
   "id": "1a986ab6-5825-45fd-b5b7-aee50ef14f61",
   "metadata": {},
   "outputs": [
    {
     "name": "stdout",
     "output_type": "stream",
     "text": [
      "George\n"
     ]
    }
   ],
   "source": [
    "print(\"George\")"
   ]
  },
  {
   "cell_type": "code",
   "execution_count": 24,
   "id": "3721e69b-00f6-4167-96e3-e269c3bf12aa",
   "metadata": {},
   "outputs": [
    {
     "name": "stdout",
     "output_type": "stream",
     "text": [
      "George\n"
     ]
    }
   ],
   "source": [
    "print('George')"
   ]
  },
  {
   "cell_type": "code",
   "execution_count": 25,
   "id": "517a87c4-b011-43af-ba21-07fbadf19f8b",
   "metadata": {},
   "outputs": [],
   "source": [
    "x4 = 'George'"
   ]
  },
  {
   "cell_type": "code",
   "execution_count": 26,
   "id": "0a7ac55a-a916-4370-86ac-f25335e428ab",
   "metadata": {},
   "outputs": [
    {
     "data": {
      "text/plain": [
       "'George'"
      ]
     },
     "execution_count": 26,
     "metadata": {},
     "output_type": "execute_result"
    }
   ],
   "source": [
    "x4"
   ]
  },
  {
   "cell_type": "code",
   "execution_count": 27,
   "id": "5f910c07-c087-41c3-a9fd-16e472df4101",
   "metadata": {},
   "outputs": [],
   "source": [
    "y = 10"
   ]
  },
  {
   "cell_type": "code",
   "execution_count": 28,
   "id": "0eed9e8b-27ae-43fd-9fc6-7f504bcb0636",
   "metadata": {},
   "outputs": [
    {
     "name": "stdout",
     "output_type": "stream",
     "text": [
      "10 Dollars\n"
     ]
    }
   ],
   "source": [
    "print(str(y) + \" Dollars\")"
   ]
  },
  {
   "cell_type": "code",
   "execution_count": 29,
   "id": "85a9929b-1787-41a7-82c9-a3b6d086de9e",
   "metadata": {},
   "outputs": [
    {
     "data": {
      "text/plain": [
       "\"I' me fine\""
      ]
     },
     "execution_count": 29,
     "metadata": {},
     "output_type": "execute_result"
    }
   ],
   "source": [
    "'I\\' me fine'"
   ]
  },
  {
   "cell_type": "code",
   "execution_count": null,
   "id": "9cbe727f-df7c-437f-b916-c2fd5536afc9",
   "metadata": {},
   "outputs": [],
   "source": []
  }
 ],
 "metadata": {
  "kernelspec": {
   "display_name": "Python 3 (ipykernel)",
   "language": "python",
   "name": "python3"
  },
  "language_info": {
   "codemirror_mode": {
    "name": "ipython",
    "version": 3
   },
   "file_extension": ".py",
   "mimetype": "text/x-python",
   "name": "python",
   "nbconvert_exporter": "python",
   "pygments_lexer": "ipython3",
   "version": "3.12.9"
  }
 },
 "nbformat": 4,
 "nbformat_minor": 5
}
