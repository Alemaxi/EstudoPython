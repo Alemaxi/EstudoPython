{
 "cells": [
  {
   "cell_type": "code",
   "execution_count": null,
   "id": "4e6e8352-4f95-4fa0-9533-5b59ad94ece9",
   "metadata": {},
   "outputs": [],
   "source": []
  }
 ],
 "metadata": {
  "kernelspec": {
   "display_name": "",
   "name": ""
  },
  "language_info": {
   "name": ""
  }
 },
 "nbformat": 4,
 "nbformat_minor": 5
}
