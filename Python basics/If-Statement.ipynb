{
 "cells": [
  {
   "cell_type": "markdown",
   "id": "3cc2a232-53da-43a3-a2ab-209461b138f8",
   "metadata": {},
   "source": [
    "<h1>If statement</h1>"
   ]
  },
  {
   "cell_type": "code",
   "execution_count": 2,
   "id": "a27015de-5206-41da-9bc9-e399d729dacb",
   "metadata": {},
   "outputs": [
    {
     "name": "stdout",
     "output_type": "stream",
     "text": [
      "Ok!\n"
     ]
    }
   ],
   "source": [
    "if 5 == 15/3:\n",
    "    print('Ok!')"
   ]
  },
  {
   "cell_type": "code",
   "execution_count": 4,
   "id": "1cead22e-96a2-449e-9b17-ccdee65be8f2",
   "metadata": {},
   "outputs": [],
   "source": [
    "if 5 == 18/3:\n",
    "    print ('Ok')"
   ]
  },
  {
   "cell_type": "code",
   "execution_count": 5,
   "id": "2a2d784b-1299-4f6e-a215-7f22f2d15582",
   "metadata": {},
   "outputs": [
    {
     "name": "stdout",
     "output_type": "stream",
     "text": [
      "Ok\n"
     ]
    }
   ],
   "source": [
    "if 5 != 18/3:\n",
    "    print ('Ok')"
   ]
  },
  {
   "cell_type": "markdown",
   "id": "c1a24497-e43e-4bfb-b256-331a92e6020b",
   "metadata": {},
   "source": [
    "<h1>Else statement</h1>"
   ]
  },
  {
   "cell_type": "code",
   "execution_count": 7,
   "id": "07b05545-b32b-4bac-bd1d-ca896488b557",
   "metadata": {},
   "outputs": [
    {
     "name": "stdout",
     "output_type": "stream",
     "text": [
      "ok2\n"
     ]
    }
   ],
   "source": [
    "if 5 == 18/3:\n",
    "    print ('Ok')\n",
    "else:\n",
    "    print ('ok2')"
   ]
  },
  {
   "cell_type": "markdown",
   "id": "7b899015-9317-49c2-b1f7-0db8f9280049",
   "metadata": {},
   "source": [
    "<h1>elif statement</h1>"
   ]
  },
  {
   "cell_type": "code",
   "execution_count": 8,
   "id": "b4849777-9bc2-44ca-b2a7-90ca0e07476c",
   "metadata": {},
   "outputs": [],
   "source": [
    "def compare_to_five(y):\n",
    "    if y > 5:\n",
    "        return 'Greater'\n",
    "    elif y < 5:\n",
    "        return 'less'\n",
    "    else:\n",
    "        return 'equal'"
   ]
  },
  {
   "cell_type": "code",
   "execution_count": 9,
   "id": "ae84b6ed-16b9-4f76-a233-732f50d3cc07",
   "metadata": {},
   "outputs": [
    {
     "name": "stdout",
     "output_type": "stream",
     "text": [
      "Greater\n"
     ]
    }
   ],
   "source": [
    " print(compare_to_five(10))"
   ]
  },
  {
   "cell_type": "code",
   "execution_count": 10,
   "id": "5e57d092-2f83-4534-80e7-8f5eb0c0b484",
   "metadata": {},
   "outputs": [
    {
     "name": "stdout",
     "output_type": "stream",
     "text": [
      "less\n"
     ]
    }
   ],
   "source": [
    "print(compare_to_five(2))"
   ]
  },
  {
   "cell_type": "code",
   "execution_count": 11,
   "id": "93e6e145-7364-49b3-9172-049680950e5b",
   "metadata": {},
   "outputs": [
    {
     "name": "stdout",
     "output_type": "stream",
     "text": [
      "equal\n"
     ]
    }
   ],
   "source": [
    "print(compare_to_five(5))"
   ]
  },
  {
   "cell_type": "code",
   "execution_count": null,
   "id": "f04d8863-a40a-41d7-98cd-3fd37d95fc43",
   "metadata": {},
   "outputs": [],
   "source": []
  }
 ],
 "metadata": {
  "kernelspec": {
   "display_name": "Python 3 (ipykernel)",
   "language": "python",
   "name": "python3"
  },
  "language_info": {
   "codemirror_mode": {
    "name": "ipython",
    "version": 3
   },
   "file_extension": ".py",
   "mimetype": "text/x-python",
   "name": "python",
   "nbconvert_exporter": "python",
   "pygments_lexer": "ipython3",
   "version": "3.12.9"
  }
 },
 "nbformat": 4,
 "nbformat_minor": 5
}
